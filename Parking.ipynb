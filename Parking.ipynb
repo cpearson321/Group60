{
 "cells": [
  {
   "cell_type": "markdown",
   "id": "6e47a694-abf6-4462-9772-7034a0c096c6",
   "metadata": {},
   "source": [
    "In a second Jupyter notebook called Parking.ipynb, analyze whether illegal parking incidents are a larger fraction of total 311 incidents in your ZIP code than they are in general. Specifically, compute the total number of parking incidents in your ZIP, and the total number of all incidents -- is this fraction greater than or smaller than the total fraction of parking incidents across all ZIP codes? Your answer should be in the form of a single bool called `higher_parking_proportion` which is True if your ZIP contains a higher proportion of parking incidents than the global value, and False otherwise. For instance, if there were 200 parking incidents in your ZIP, and 1000 total incidents in your ZIP, a rate of 20%, but the global parking incident rate was 3000 parking incidents out of 10000 total, a ratio of 30%, you would assign higher_parking_proportion = False.\n",
    "\n",
    "The entirety of your notebooks must run successfully. Do not include any cells which raise errors.\n"
   ]
  },
  {
   "cell_type": "code",
   "execution_count": 1,
   "id": "df072eb6-87f1-42cc-817d-60779e940caf",
   "metadata": {},
   "outputs": [],
   "source": [
    "import numpy as np\n",
    "import pandas as pd"
   ]
  },
  {
   "cell_type": "code",
   "execution_count": 2,
   "id": "d6c68d99-a42f-44db-8ca9-ead413fc9501",
   "metadata": {},
   "outputs": [
    {
     "name": "stderr",
     "output_type": "stream",
     "text": [
      "/Users/elisalk/opt/anaconda3/lib/python3.8/site-packages/IPython/core/interactiveshell.py:3437: DtypeWarning: Columns (20,31,32) have mixed types.Specify dtype option on import or set low_memory=False.\n",
      "  exec(code_obj, self.user_global_ns, self.user_ns)\n"
     ]
    }
   ],
   "source": [
    "datafile = \"311_Service_Requests_2020.csv\"\n",
    "df = pd.read_csv(datafile)"
   ]
  },
  {
   "cell_type": "code",
   "execution_count": 3,
   "id": "6f3c2499-d168-4edc-af12-9069ca59ffd9",
   "metadata": {},
   "outputs": [
    {
     "data": {
      "text/html": [
       "<div>\n",
       "<style scoped>\n",
       "    .dataframe tbody tr th:only-of-type {\n",
       "        vertical-align: middle;\n",
       "    }\n",
       "\n",
       "    .dataframe tbody tr th {\n",
       "        vertical-align: top;\n",
       "    }\n",
       "\n",
       "    .dataframe thead th {\n",
       "        text-align: right;\n",
       "    }\n",
       "</style>\n",
       "<table border=\"1\" class=\"dataframe\">\n",
       "  <thead>\n",
       "    <tr style=\"text-align: right;\">\n",
       "      <th></th>\n",
       "      <th>Complaint Type</th>\n",
       "      <th>Incident Zip</th>\n",
       "    </tr>\n",
       "  </thead>\n",
       "  <tbody>\n",
       "    <tr>\n",
       "      <th>441</th>\n",
       "      <td>Noise - Residential</td>\n",
       "      <td>10011.0</td>\n",
       "    </tr>\n",
       "    <tr>\n",
       "      <th>807</th>\n",
       "      <td>Taxi Complaint</td>\n",
       "      <td>10011.0</td>\n",
       "    </tr>\n",
       "    <tr>\n",
       "      <th>938</th>\n",
       "      <td>Noise - Residential</td>\n",
       "      <td>10011.0</td>\n",
       "    </tr>\n",
       "    <tr>\n",
       "      <th>1464</th>\n",
       "      <td>Taxi Report</td>\n",
       "      <td>10011.0</td>\n",
       "    </tr>\n",
       "    <tr>\n",
       "      <th>1561</th>\n",
       "      <td>Noise - Residential</td>\n",
       "      <td>10011.0</td>\n",
       "    </tr>\n",
       "    <tr>\n",
       "      <th>...</th>\n",
       "      <td>...</td>\n",
       "      <td>...</td>\n",
       "    </tr>\n",
       "    <tr>\n",
       "      <th>2585844</th>\n",
       "      <td>Noise - Helicopter</td>\n",
       "      <td>10011.0</td>\n",
       "    </tr>\n",
       "    <tr>\n",
       "      <th>2585845</th>\n",
       "      <td>Noise - Helicopter</td>\n",
       "      <td>10011.0</td>\n",
       "    </tr>\n",
       "    <tr>\n",
       "      <th>2585882</th>\n",
       "      <td>Noise - Helicopter</td>\n",
       "      <td>10011.0</td>\n",
       "    </tr>\n",
       "    <tr>\n",
       "      <th>2586509</th>\n",
       "      <td>NonCompliance with Phased Reopening</td>\n",
       "      <td>10011.0</td>\n",
       "    </tr>\n",
       "    <tr>\n",
       "      <th>2586634</th>\n",
       "      <td>Traffic Signal Condition</td>\n",
       "      <td>10011.0</td>\n",
       "    </tr>\n",
       "  </tbody>\n",
       "</table>\n",
       "<p>13674 rows × 2 columns</p>\n",
       "</div>"
      ],
      "text/plain": [
       "                              Complaint Type  Incident Zip\n",
       "441                      Noise - Residential       10011.0\n",
       "807                           Taxi Complaint       10011.0\n",
       "938                      Noise - Residential       10011.0\n",
       "1464                             Taxi Report       10011.0\n",
       "1561                     Noise - Residential       10011.0\n",
       "...                                      ...           ...\n",
       "2585844                   Noise - Helicopter       10011.0\n",
       "2585845                   Noise - Helicopter       10011.0\n",
       "2585882                   Noise - Helicopter       10011.0\n",
       "2586509  NonCompliance with Phased Reopening       10011.0\n",
       "2586634             Traffic Signal Condition       10011.0\n",
       "\n",
       "[13674 rows x 2 columns]"
      ]
     },
     "execution_count": 3,
     "metadata": {},
     "output_type": "execute_result"
    }
   ],
   "source": [
    "df_10011 = df[['Complaint Type', 'Incident Zip']].loc[df[\"Incident Zip\"] == 10011]\n",
    "df_10011"
   ]
  },
  {
   "cell_type": "markdown",
   "id": "31e3b845-e54b-4842-9a0c-4e4b096934e0",
   "metadata": {},
   "source": [
    "### Find Illegal Parking for Zip Code 10011"
   ]
  },
  {
   "cell_type": "code",
   "execution_count": 4,
   "id": "141acb5a-1dd2-4496-91c0-28745356d555",
   "metadata": {},
   "outputs": [
    {
     "data": {
      "text/plain": [
       "556"
      ]
     },
     "execution_count": 4,
     "metadata": {},
     "output_type": "execute_result"
    }
   ],
   "source": [
    "df_parking_10011 = df_10011.loc[(df['Complaint Type'] == 'Illegal Parking')].count()\n",
    "df_illegal_parking_10011 = df_parking_10011['Complaint Type']\n",
    "df_illegal_parking_10011"
   ]
  },
  {
   "cell_type": "markdown",
   "id": "aaf4fc77-a53c-48b3-896e-16081daae67b",
   "metadata": {},
   "source": [
    "### Find Total Number of Incidents for Zip Code 10011"
   ]
  },
  {
   "cell_type": "code",
   "execution_count": 5,
   "id": "72f732e5-a1ba-4d45-bd83-c8f9777e5001",
   "metadata": {},
   "outputs": [
    {
     "data": {
      "text/plain": [
       "13674"
      ]
     },
     "execution_count": 5,
     "metadata": {},
     "output_type": "execute_result"
    }
   ],
   "source": [
    "df_else_10011 = df_10011['Complaint Type'].count()\n",
    "df_else_10011"
   ]
  },
  {
   "cell_type": "markdown",
   "id": "52d0c4a0-12aa-4a08-91da-bf6ba82b0daa",
   "metadata": {},
   "source": [
    "### Proportion of Illegal Parking to All Incidents for Zip Code 10011"
   ]
  },
  {
   "cell_type": "code",
   "execution_count": 6,
   "id": "b7e1a769-6283-45bf-a48a-d693fd4ede5d",
   "metadata": {},
   "outputs": [
    {
     "data": {
      "text/plain": [
       "0.040661108673394765"
      ]
     },
     "execution_count": 6,
     "metadata": {},
     "output_type": "execute_result"
    }
   ],
   "source": [
    "proportion_10011 = df_illegal_parking_10011 / df_else_10011\n",
    "proportion_10011"
   ]
  },
  {
   "cell_type": "code",
   "execution_count": 7,
   "id": "0e410d29-eb48-4c1c-955a-ece6e67fa2be",
   "metadata": {},
   "outputs": [
    {
     "data": {
      "text/html": [
       "<div>\n",
       "<style scoped>\n",
       "    .dataframe tbody tr th:only-of-type {\n",
       "        vertical-align: middle;\n",
       "    }\n",
       "\n",
       "    .dataframe tbody tr th {\n",
       "        vertical-align: top;\n",
       "    }\n",
       "\n",
       "    .dataframe thead th {\n",
       "        text-align: right;\n",
       "    }\n",
       "</style>\n",
       "<table border=\"1\" class=\"dataframe\">\n",
       "  <thead>\n",
       "    <tr style=\"text-align: right;\">\n",
       "      <th></th>\n",
       "      <th>Complaint Type</th>\n",
       "      <th>Incident Zip</th>\n",
       "    </tr>\n",
       "  </thead>\n",
       "  <tbody>\n",
       "    <tr>\n",
       "      <th>0</th>\n",
       "      <td>Food Poisoning</td>\n",
       "      <td>11229.0</td>\n",
       "    </tr>\n",
       "    <tr>\n",
       "      <th>1</th>\n",
       "      <td>Food Poisoning</td>\n",
       "      <td>10458.0</td>\n",
       "    </tr>\n",
       "    <tr>\n",
       "      <th>2</th>\n",
       "      <td>Food Poisoning</td>\n",
       "      <td>11203.0</td>\n",
       "    </tr>\n",
       "    <tr>\n",
       "      <th>3</th>\n",
       "      <td>Food Poisoning</td>\n",
       "      <td>11214.0</td>\n",
       "    </tr>\n",
       "    <tr>\n",
       "      <th>4</th>\n",
       "      <td>Food Poisoning</td>\n",
       "      <td>11385.0</td>\n",
       "    </tr>\n",
       "    <tr>\n",
       "      <th>...</th>\n",
       "      <td>...</td>\n",
       "      <td>...</td>\n",
       "    </tr>\n",
       "    <tr>\n",
       "      <th>2587311</th>\n",
       "      <td>Food Poisoning</td>\n",
       "      <td>11209.0</td>\n",
       "    </tr>\n",
       "    <tr>\n",
       "      <th>2587312</th>\n",
       "      <td>Food Poisoning</td>\n",
       "      <td>11209.0</td>\n",
       "    </tr>\n",
       "    <tr>\n",
       "      <th>2587313</th>\n",
       "      <td>Food Poisoning</td>\n",
       "      <td>11103.0</td>\n",
       "    </tr>\n",
       "    <tr>\n",
       "      <th>2587314</th>\n",
       "      <td>Food Poisoning</td>\n",
       "      <td>10461.0</td>\n",
       "    </tr>\n",
       "    <tr>\n",
       "      <th>2587315</th>\n",
       "      <td>Food Poisoning</td>\n",
       "      <td>10023.0</td>\n",
       "    </tr>\n",
       "  </tbody>\n",
       "</table>\n",
       "<p>2587316 rows × 2 columns</p>\n",
       "</div>"
      ],
      "text/plain": [
       "         Complaint Type  Incident Zip\n",
       "0        Food Poisoning       11229.0\n",
       "1        Food Poisoning       10458.0\n",
       "2        Food Poisoning       11203.0\n",
       "3        Food Poisoning       11214.0\n",
       "4        Food Poisoning       11385.0\n",
       "...                 ...           ...\n",
       "2587311  Food Poisoning       11209.0\n",
       "2587312  Food Poisoning       11209.0\n",
       "2587313  Food Poisoning       11103.0\n",
       "2587314  Food Poisoning       10461.0\n",
       "2587315  Food Poisoning       10023.0\n",
       "\n",
       "[2587316 rows x 2 columns]"
      ]
     },
     "execution_count": 7,
     "metadata": {},
     "output_type": "execute_result"
    }
   ],
   "source": [
    "df_all = df[['Complaint Type', 'Incident Zip']]\n",
    "df_all"
   ]
  },
  {
   "cell_type": "markdown",
   "id": "49e40d18-6571-45a6-af48-b135086e1fcc",
   "metadata": {},
   "source": [
    "### Find Illegal Parking for All Zip Codes"
   ]
  },
  {
   "cell_type": "code",
   "execution_count": 8,
   "id": "f8f7b43d-c902-4fd9-b991-8ddf2db50d34",
   "metadata": {},
   "outputs": [
    {
     "data": {
      "text/plain": [
       "193721"
      ]
     },
     "execution_count": 8,
     "metadata": {},
     "output_type": "execute_result"
    }
   ],
   "source": [
    "df_parking_all = df_all.loc[(df['Complaint Type'] == 'Illegal Parking')].count()\n",
    "df_illegal_parking_all = df_parking_all['Complaint Type']\n",
    "df_illegal_parking_all"
   ]
  },
  {
   "cell_type": "markdown",
   "id": "bc7d5850-2c9c-4e13-bd49-c39913fc1d94",
   "metadata": {},
   "source": [
    "### Find Total Number of Incidents for All Zip Codes"
   ]
  },
  {
   "cell_type": "code",
   "execution_count": 9,
   "id": "b7c21d1b-9841-4228-b386-0a80715b0166",
   "metadata": {},
   "outputs": [
    {
     "data": {
      "text/plain": [
       "2587316"
      ]
     },
     "execution_count": 9,
     "metadata": {},
     "output_type": "execute_result"
    }
   ],
   "source": [
    "df_else_all = df_all['Complaint Type'].count()\n",
    "df_else_all"
   ]
  },
  {
   "cell_type": "markdown",
   "id": "bb293e70-7c2c-40b1-8786-1edcf1e398ec",
   "metadata": {},
   "source": [
    "### Proportion of Illegal Parking to All Incidents for All Zip Codes"
   ]
  },
  {
   "cell_type": "code",
   "execution_count": 10,
   "id": "c0d67e14-88b9-426e-98ff-1a7a465a5009",
   "metadata": {},
   "outputs": [
    {
     "data": {
      "text/plain": [
       "0.07487334365033108"
      ]
     },
     "execution_count": 10,
     "metadata": {},
     "output_type": "execute_result"
    }
   ],
   "source": [
    "proportion_all = df_illegal_parking_all / df_else_all\n",
    "proportion_all"
   ]
  },
  {
   "cell_type": "code",
   "execution_count": 11,
   "id": "e5d7cb59-9e5a-4d51-b49f-38d71293814a",
   "metadata": {},
   "outputs": [
    {
     "data": {
      "text/plain": [
       "False"
      ]
     },
     "execution_count": 11,
     "metadata": {},
     "output_type": "execute_result"
    }
   ],
   "source": [
    "higher_parking_proportion = proportion_10011 > proportion_all\n",
    "\n",
    "higher_parking_proportion"
   ]
  }
 ],
 "metadata": {
  "kernelspec": {
   "display_name": "Python 3",
   "language": "python",
   "name": "python3"
  },
  "language_info": {
   "codemirror_mode": {
    "name": "ipython",
    "version": 3
   },
   "file_extension": ".py",
   "mimetype": "text/x-python",
   "name": "python",
   "nbconvert_exporter": "python",
   "pygments_lexer": "ipython3",
   "version": "3.8.8"
  }
 },
 "nbformat": 4,
 "nbformat_minor": 5
}
