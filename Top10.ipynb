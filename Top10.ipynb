{
 "cells": [
  {
   "cell_type": "code",
   "execution_count": 1,
   "id": "b6089524-d760-4cde-9781-ac8db4d6b883",
   "metadata": {},
   "outputs": [],
   "source": [
    "import numpy as np\n",
    "import pandas as pd"
   ]
  },
  {
   "cell_type": "markdown",
   "id": "393e04a4-ff66-4016-b6f3-dd566d5a0d0a",
   "metadata": {},
   "source": [
    "In a first Jupyter notebook called Top10.ipynb, analyze what the top 10 causes of calls to 311 are in your chosen ZIP code, and calculate how many total incidents of each of these 10 types there have been in the year 2020. Your answer should be a pandas.Series which you must call top10 (as a Python variable), which should be in descending order by number of incidents, and which contains as its labels the incident type (a string) and as associated values the total number of incidents of this type in 2020."
   ]
  },
  {
   "cell_type": "code",
   "execution_count": 2,
   "id": "8d030baf-1357-42ce-8e7f-a5a2f1bd4a48",
   "metadata": {},
   "outputs": [
    {
     "name": "stderr",
     "output_type": "stream",
     "text": [
      "/Users/elisalk/opt/anaconda3/lib/python3.8/site-packages/IPython/core/interactiveshell.py:3437: DtypeWarning: Columns (20,31,32) have mixed types.Specify dtype option on import or set low_memory=False.\n",
      "  exec(code_obj, self.user_global_ns, self.user_ns)\n"
     ]
    }
   ],
   "source": [
    "datafile = \"311_Service_Requests_2020.csv\"\n",
    "df = pd.read_csv(datafile)"
   ]
  },
  {
   "cell_type": "code",
   "execution_count": 5,
   "id": "20ea3799-b3dc-46b2-abee-4b31c812905a",
   "metadata": {},
   "outputs": [
    {
     "data": {
      "text/html": [
       "<div>\n",
       "<style scoped>\n",
       "    .dataframe tbody tr th:only-of-type {\n",
       "        vertical-align: middle;\n",
       "    }\n",
       "\n",
       "    .dataframe tbody tr th {\n",
       "        vertical-align: top;\n",
       "    }\n",
       "\n",
       "    .dataframe thead th {\n",
       "        text-align: right;\n",
       "    }\n",
       "</style>\n",
       "<table border=\"1\" class=\"dataframe\">\n",
       "  <thead>\n",
       "    <tr style=\"text-align: right;\">\n",
       "      <th></th>\n",
       "      <th>Complaint Type</th>\n",
       "      <th>Incident Zip</th>\n",
       "    </tr>\n",
       "  </thead>\n",
       "  <tbody>\n",
       "    <tr>\n",
       "      <th>441</th>\n",
       "      <td>Noise - Residential</td>\n",
       "      <td>10011.0</td>\n",
       "    </tr>\n",
       "    <tr>\n",
       "      <th>807</th>\n",
       "      <td>Taxi Complaint</td>\n",
       "      <td>10011.0</td>\n",
       "    </tr>\n",
       "    <tr>\n",
       "      <th>938</th>\n",
       "      <td>Noise - Residential</td>\n",
       "      <td>10011.0</td>\n",
       "    </tr>\n",
       "    <tr>\n",
       "      <th>1464</th>\n",
       "      <td>Taxi Report</td>\n",
       "      <td>10011.0</td>\n",
       "    </tr>\n",
       "    <tr>\n",
       "      <th>1561</th>\n",
       "      <td>Noise - Residential</td>\n",
       "      <td>10011.0</td>\n",
       "    </tr>\n",
       "    <tr>\n",
       "      <th>...</th>\n",
       "      <td>...</td>\n",
       "      <td>...</td>\n",
       "    </tr>\n",
       "    <tr>\n",
       "      <th>2585844</th>\n",
       "      <td>Noise - Helicopter</td>\n",
       "      <td>10011.0</td>\n",
       "    </tr>\n",
       "    <tr>\n",
       "      <th>2585845</th>\n",
       "      <td>Noise - Helicopter</td>\n",
       "      <td>10011.0</td>\n",
       "    </tr>\n",
       "    <tr>\n",
       "      <th>2585882</th>\n",
       "      <td>Noise - Helicopter</td>\n",
       "      <td>10011.0</td>\n",
       "    </tr>\n",
       "    <tr>\n",
       "      <th>2586509</th>\n",
       "      <td>NonCompliance with Phased Reopening</td>\n",
       "      <td>10011.0</td>\n",
       "    </tr>\n",
       "    <tr>\n",
       "      <th>2586634</th>\n",
       "      <td>Traffic Signal Condition</td>\n",
       "      <td>10011.0</td>\n",
       "    </tr>\n",
       "  </tbody>\n",
       "</table>\n",
       "<p>13674 rows × 2 columns</p>\n",
       "</div>"
      ],
      "text/plain": [
       "                              Complaint Type  Incident Zip\n",
       "441                      Noise - Residential       10011.0\n",
       "807                           Taxi Complaint       10011.0\n",
       "938                      Noise - Residential       10011.0\n",
       "1464                             Taxi Report       10011.0\n",
       "1561                     Noise - Residential       10011.0\n",
       "...                                      ...           ...\n",
       "2585844                   Noise - Helicopter       10011.0\n",
       "2585845                   Noise - Helicopter       10011.0\n",
       "2585882                   Noise - Helicopter       10011.0\n",
       "2586509  NonCompliance with Phased Reopening       10011.0\n",
       "2586634             Traffic Signal Condition       10011.0\n",
       "\n",
       "[13674 rows x 2 columns]"
      ]
     },
     "execution_count": 5,
     "metadata": {},
     "output_type": "execute_result"
    }
   ],
   "source": [
    "df_10011 = df[['Complaint Type', 'Incident Zip']].loc[df[\"Incident Zip\"] == 10011]\n",
    "df_10011"
   ]
  },
  {
   "cell_type": "code",
   "execution_count": 6,
   "id": "aa09bcfc-35a4-414b-bcab-d928e0cfe6c8",
   "metadata": {},
   "outputs": [
    {
     "data": {
      "text/plain": [
       "Noise - Helicopter                     1506\n",
       "Noise - Residential                    1475\n",
       "Noise - Street/Sidewalk                 786\n",
       "Noise                                   775\n",
       "Homeless Person Assistance              686\n",
       "Non-Emergency Police Matter             652\n",
       "NonCompliance with Phased Reopening     634\n",
       "Illegal Parking                         556\n",
       "HEAT/HOT WATER                          440\n",
       "Street Condition                        398\n",
       "Name: Complaint Type, dtype: int64"
      ]
     },
     "execution_count": 6,
     "metadata": {},
     "output_type": "execute_result"
    }
   ],
   "source": [
    "top10 = df_10011['Complaint Type'].value_counts()[:10]\n",
    "top10"
   ]
  }
 ],
 "metadata": {
  "kernelspec": {
   "display_name": "Python 3",
   "language": "python",
   "name": "python3"
  },
  "language_info": {
   "codemirror_mode": {
    "name": "ipython",
    "version": 3
   },
   "file_extension": ".py",
   "mimetype": "text/x-python",
   "name": "python",
   "nbconvert_exporter": "python",
   "pygments_lexer": "ipython3",
   "version": "3.8.8"
  }
 },
 "nbformat": 4,
 "nbformat_minor": 5
}
